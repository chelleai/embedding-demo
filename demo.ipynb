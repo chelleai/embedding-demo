{
 "cells": [
  {
   "cell_type": "code",
   "execution_count": null,
   "metadata": {},
   "outputs": [],
   "source": [
    "import openai\n",
    "import os\n",
    "from glob import glob\n",
    "from openai import OpenAI\n",
    "import numpy as np\n",
    "from sklearn.metrics.pairwise import cosine_similarity\n",
    "import pandas as pd\n",
    "\n",
    "openai.api_key = os.environ[\"OPENAI_API_KEY\"]\n",
    "client = OpenAI()"
   ]
  },
  {
   "cell_type": "code",
   "execution_count": null,
   "metadata": {},
   "outputs": [],
   "source": [
    "def get_ada_embedding(text):\n",
    "    result = client.embeddings.create(input=[text], model=\"text-embedding-ada-002\")\n",
    "    return np.array(result.data[0].embedding).reshape(1, -1)\n",
    "\n",
    "def get_cosine_similarity(embedding1, embedding2):\n",
    "    return cosine_similarity(embedding1, embedding2)[0][0]\n",
    "\n",
    "def get_nearest_neighbor_text(text, df):\n",
    "    embedding = get_ada_embedding(text)\n",
    "    cosine_similarities = df.embedding.apply(lambda x: get_cosine_similarity(x, embedding))\n",
    "    closest_document = cosine_similarities.sort_values(ascending=False).head(1)\n",
    "    return df.loc[closest_document.index[0]].text\n",
    "\n",
    "def simple_chat(prompt):\n",
    "    return client.chat.completions.create(\n",
    "      model=\"gpt-3.5-turbo\",\n",
    "      messages=[\n",
    "        {\"role\": \"system\", \"content\": \"You are a helpful Onboarding assistant.\"},\n",
    "        {\"role\": \"user\", \"content\": prompt},\n",
    "      ]\n",
    "    ).choices[0].message.content"
   ]
  },
  {
   "cell_type": "code",
   "execution_count": null,
   "metadata": {},
   "outputs": [],
   "source": [
    "embeddings = [\n",
    "    (\"i love you\", get_ada_embedding(\"I love you.\")),\n",
    "    (\"i adore you\", get_ada_embedding(\"I adore you.\")),\n",
    "    (\"i hate you\", get_ada_embedding(\"I hate you.\")),\n",
    "    (\"i despise you\", get_ada_embedding(\"I despise you.\")),\n",
    "    (\"peanut butter sandwich\", get_ada_embedding(\"peanut butter sandwich\")),\n",
    "    (\"i am ambivalent toward you\", get_ada_embedding(\"i am ambivalent toward you\")),\n",
    "    (\"The happiness of your life depends upon the quality of your thoughts.\", get_ada_embedding(\"The happiness of your life depends upon the quality of your thoughts.\")),\n",
    "    (\"你生活的幸福取决于你思想的质量。\", get_ada_embedding(\"dsakljflks'ajfo[easi'urtoaeishfja'sdoilfjas]\")),\n",
    "]"
   ]
  },
  {
   "cell_type": "code",
   "execution_count": null,
   "metadata": {},
   "outputs": [],
   "source": [
    "for name, embedding in embeddings:\n",
    "    for name2, embedding2 in embeddings:\n",
    "        if name in (\"i love you\", \"i hate you\"):\n",
    "            print(f\"{name} vs {name2}: {round(cosine_similarity(embedding, embedding2)[0][0], 3)}\")\n",
    "    print(\" \")"
   ]
  },
  {
   "cell_type": "code",
   "execution_count": null,
   "metadata": {},
   "outputs": [],
   "source": [
    "raw_onboarding_docs = glob(\"documents/*.md\")\n",
    "onboarding_doc_text = []\n",
    "embeddings = []\n",
    "\n",
    "for doc in raw_onboarding_docs:\n",
    "    with open(doc) as f:\n",
    "        document_text = f.read()\n",
    "        onboarding_doc_text.append(document_text)\n",
    "        embeddings.append(get_ada_embedding(document_text))"
   ]
  },
  {
   "cell_type": "code",
   "execution_count": null,
   "metadata": {},
   "outputs": [],
   "source": [
    "onboarding_docs_df = pd.DataFrame({\"text\": onboarding_doc_text, \"embedding\": embeddings, \"filename\": raw_onboarding_docs})\n",
    "onboarding_docs_df.head()"
   ]
  },
  {
   "cell_type": "code",
   "execution_count": null,
   "metadata": {},
   "outputs": [],
   "source": [
    "new_message = \"I just started my new job as a junior software engineer. I'm so excited to be here! What should I do first?\""
   ]
  },
  {
   "cell_type": "code",
   "execution_count": null,
   "metadata": {},
   "outputs": [],
   "source": [
    "print(get_nearest_neighbor_text(new_message, onboarding_docs_df))"
   ]
  },
  {
   "cell_type": "code",
   "execution_count": null,
   "metadata": {},
   "outputs": [],
   "source": [
    "def help_me_onboard(question, onboarding_docs_df=onboarding_docs_df):\n",
    "  \n",
    "    closest_document_text = get_nearest_neighbor_text(question, onboarding_docs_df)\n",
    "\n",
    "    prompt = f\"\"\"\n",
    "    I would like help answering the following question:\n",
    "\n",
    "    {question}\n",
    "\n",
    "    Please only answer the question using this as context:\n",
    "\n",
    "    {closest_document_text}\n",
    "    \"\"\"\n",
    "\n",
    "    print(simple_chat(prompt))"
   ]
  },
  {
   "cell_type": "code",
   "execution_count": null,
   "metadata": {},
   "outputs": [],
   "source": [
    "help_me_onboard(\"I am a new AE. What should I do first?\")"
   ]
  },
  {
   "cell_type": "code",
   "execution_count": null,
   "metadata": {},
   "outputs": [],
   "source": [
    "help_me_onboard(\"I am a new AE. I've attended orientation and prodcut training. What should I do next?\")"
   ]
  },
  {
   "cell_type": "code",
   "execution_count": null,
   "metadata": {},
   "outputs": [],
   "source": []
  }
 ],
 "metadata": {
  "kernelspec": {
   "display_name": "embeddings-demo",
   "language": "python",
   "name": "python3"
  },
  "language_info": {
   "codemirror_mode": {
    "name": "ipython",
    "version": 3
   },
   "file_extension": ".py",
   "mimetype": "text/x-python",
   "name": "python",
   "nbconvert_exporter": "python",
   "pygments_lexer": "ipython3",
   "version": "3.11.5"
  },
  "orig_nbformat": 4
 },
 "nbformat": 4,
 "nbformat_minor": 2
}
